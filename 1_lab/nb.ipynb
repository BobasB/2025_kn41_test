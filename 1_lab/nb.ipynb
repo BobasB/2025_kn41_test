{
 "cells": [
  {
   "cell_type": "markdown",
   "id": "1d0bd20b",
   "metadata": {},
   "source": [
    "# Моя перша програма\n",
    "\n",
    "> [!WARN]\n",
    "> для цього потрібно знати Python"
   ]
  },
  {
   "cell_type": "code",
   "execution_count": 4,
   "id": "1b92c537",
   "metadata": {},
   "outputs": [
    {
     "name": "stdout",
     "output_type": "stream",
     "text": [
      "Моя перша програма на Python!\n",
      "Це круто!\n"
     ]
    }
   ],
   "source": [
    "print(\"Моя перша програма на Python!\")\n",
    "print(\"Це круто!\")"
   ]
  },
  {
   "cell_type": "code",
   "execution_count": 5,
   "id": "b220def1",
   "metadata": {},
   "outputs": [
    {
     "name": "stdout",
     "output_type": "stream",
     "text": [
      "А це вже друга стрічка коду\n"
     ]
    }
   ],
   "source": [
    "print(\"А це вже друга стрічка коду\")"
   ]
  },
  {
   "cell_type": "code",
   "execution_count": 8,
   "id": "653f0684",
   "metadata": {},
   "outputs": [],
   "source": [
    "name = \"Богдан\""
   ]
  },
  {
   "cell_type": "code",
   "execution_count": 7,
   "id": "99538beb",
   "metadata": {},
   "outputs": [],
   "source": [
    "name = input(\"Введіть ваше ім'я: \")"
   ]
  }
 ],
 "metadata": {
  "kernelspec": {
   "display_name": "Python 3",
   "language": "python",
   "name": "python3"
  },
  "language_info": {
   "codemirror_mode": {
    "name": "ipython",
    "version": 3
   },
   "file_extension": ".py",
   "mimetype": "text/x-python",
   "name": "python",
   "nbconvert_exporter": "python",
   "pygments_lexer": "ipython3",
   "version": "3.12.9"
  }
 },
 "nbformat": 4,
 "nbformat_minor": 5
}
