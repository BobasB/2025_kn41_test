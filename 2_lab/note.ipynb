{
 "cells": [
  {
   "cell_type": "markdown",
   "id": "20d64cb0",
   "metadata": {},
   "source": [
    "# Основи Python\n",
    "\n",
    "## Типи даних\n",
    "\n",
    "### Стрічкові дані (букви або слова або речення)"
   ]
  },
  {
   "cell_type": "code",
   "execution_count": 1,
   "id": "365d0db0",
   "metadata": {},
   "outputs": [
    {
     "name": "stdout",
     "output_type": "stream",
     "text": [
      "<class 'str'>  а також  <class 'str'>  а також  <class 'str'>  а також  <class 'str'>\n"
     ]
    }
   ],
   "source": [
    "st_1 = \"Hello\"\n",
    "st_2 = 'World'\n",
    "st_3 = \"\"\"Hello World\"\"\"\n",
    "st_4 = str(123)\n",
    "print(type(st_1), \" а також \", type(st_2), \" а також \", type(st_3), \" а також \", type(st_4))"
   ]
  },
  {
   "cell_type": "markdown",
   "id": "9e23993a",
   "metadata": {},
   "source": [
    "- будь-що у Python є обєктом, і створені нами змінні також є обєктами класу `<class 'str'>`\n",
    "- з ООП ми знаємо що в класі є атрибути та методи які можуть бути застосовані до обєкту"
   ]
  },
  {
   "cell_type": "code",
   "execution_count": 2,
   "id": "80f69bef",
   "metadata": {},
   "outputs": [
    {
     "name": "stdout",
     "output_type": "stream",
     "text": [
      "Звертаємось до обєкта та шукаємо кількість входжень літери 'l': 2\n"
     ]
    }
   ],
   "source": [
    "st_out = \"звертаємось до обєкта та шукаємо кількість входжень літери 'l':\"\n",
    "print(st_out.capitalize(), st_1.count('l'))"
   ]
  },
  {
   "cell_type": "markdown",
   "id": "b0d764e6",
   "metadata": {},
   "source": [
    "- оскільки стрічки є обєктами і слова складаються з літер, ми можемо пройтися по всіх літерах у циклі\n",
    "- а також виокремлювати слайси з стрічки"
   ]
  },
  {
   "cell_type": "code",
   "execution_count": 2,
   "id": "2d8bb514",
   "metadata": {},
   "outputs": [
    {
     "name": "stdout",
     "output_type": "stream",
     "text": [
      "['Привіт', 'по', 'буквах']\n",
      "->  П\n",
      "->  р\n",
      "->  и\n",
      "->  в\n",
      "->  і\n",
      "->  т\n",
      "->   \n",
      "->  п\n",
      "->  о\n",
      "->   \n",
      "->  б\n",
      "->  у\n",
      "->  к\n",
      "->  в\n",
      "->  а\n",
      "->  х\n",
      "П\n",
      "по \n",
      "буквах\n"
     ]
    }
   ],
   "source": [
    "a = \"Привіт по буквах\"\n",
    "print(a.split()) # розбиває на слова\n",
    "for letter in a:\n",
    "    print(\"-> \", letter)\n",
    "# ---\n",
    "print(a[0])  # перший символ\n",
    "print(a[7:10])  # слайс з 0 по 6 символ\n",
    "print(a[10:])"
   ]
  },
  {
   "cell_type": "markdown",
   "id": "e05176ed",
   "metadata": {},
   "source": [
    "## Арифметичні операції над стрічками\n",
    "- дадаємо дві стрічки - це операція називається Конкатенація"
   ]
  },
  {
   "cell_type": "code",
   "execution_count": null,
   "id": "4da8c657",
   "metadata": {},
   "outputs": [
    {
     "name": "stdout",
     "output_type": "stream",
     "text": [
      "Привіт по буквах Світ по буквах Привіт по буквах Світ по буквах\n"
     ]
    }
   ],
   "source": [
    "b = \" Світ по буквах\"\n",
    "print(a + b, a.__add__(b))\n",
    "# a - b \n",
    "# TypeError: unsupported operand type(s) for -: 'str' and 'str'\n",
    "_ = \"Це стрічка\"\n",
    "c = \"3\"\n",
    "print(\"Це початок | \" + _ + c)"
   ]
  },
  {
   "cell_type": "code",
   "execution_count": null,
   "id": "c168661d",
   "metadata": {},
   "outputs": [],
   "source": [
    "s = \"давайте почнемо з великої букви. і нове речення\"\n",
    "s1, s2 = s.split('. ')\n",
    "print(s1.capitalize(), \".\", s2.capitalize())"
   ]
  },
  {
   "cell_type": "markdown",
   "id": "1da8412e",
   "metadata": {},
   "source": [
    "### Числові дані\n",
    "- як і стрічки, всі цифри також будуть обєктами\n",
    "- однак, якщо цифру взяти в лапки, тому це буде символ а значить Python буде розуміти його як стрічку"
   ]
  },
  {
   "cell_type": "code",
   "execution_count": 4,
   "id": "f05c9079",
   "metadata": {},
   "outputs": [
    {
     "name": "stdout",
     "output_type": "stream",
     "text": [
      "<class 'int'>  а також  <class 'float'>  а також  <class 'str'>\n"
     ]
    }
   ],
   "source": [
    "n_1 = 123\n",
    "n_2 = 12.34\n",
    "ns_1 = \"123\"\n",
    "print(type(n_1), \" а також \", type(n_2), \" а також \", type(ns_1))"
   ]
  },
  {
   "cell_type": "code",
   "execution_count": 5,
   "id": "d3ed0ab8",
   "metadata": {},
   "outputs": [
    {
     "name": "stdout",
     "output_type": "stream",
     "text": [
      "<class 'int'> 32\n"
     ]
    }
   ],
   "source": [
    "d = 10000000000\n",
    "import sys\n",
    "print(type(d), sys.getsizeof(d))"
   ]
  },
  {
   "cell_type": "markdown",
   "id": "5b76bb92",
   "metadata": {},
   "source": [
    "- ми можемо задавати числа у наступному вигляді\n",
    "- можемо явна вказувати тип даних який присвоюється змінній\n",
    "- або задавати тип самої змінної а потім поміщати туди дані\n",
    "- Python автоматично розпізнає тип даних та відповідно конвертує змінну\n",
    "- для того щоб була строга типізація використовують бібліотеки typing або pydantic"
   ]
  },
  {
   "cell_type": "code",
   "execution_count": 5,
   "id": "38e9953c",
   "metadata": {},
   "outputs": [
    {
     "name": "stdout",
     "output_type": "stream",
     "text": [
      "1000000  а також  <class 'str'>\n",
      "12.34  належить типу  <class 'float'>  а також  12.5  належить типу  <class 'float'>\n"
     ]
    }
   ],
   "source": [
    "ni_1 = 1_000_000\n",
    "ni_2 = 1e6\n",
    "# явно вкзати тип\n",
    "ni_1 = int(1000000)\n",
    "ni_2: int|float = \"12\"\n",
    "print(ni_1, \" а також \", type(ni_2) )\n",
    "nf_1 = float(12.34)\n",
    "nf_2 = 12.5\n",
    "print(nf_1, \" належить типу \", type(nf_1), \" а також \", nf_2, \" належить типу \", type(nf_2))"
   ]
  },
  {
   "cell_type": "markdown",
   "id": "7fe51ea3",
   "metadata": {},
   "source": [
    "- а як доступатись до цифри як обєкта?"
   ]
  },
  {
   "cell_type": "code",
   "execution_count": 6,
   "id": "7a1fe8ef",
   "metadata": {},
   "outputs": [
    {
     "name": "stdout",
     "output_type": "stream",
     "text": [
      "<class 'int'> True <class 'float'> False\n"
     ]
    }
   ],
   "source": [
    "print(type(ni_1), ni_1.is_integer(), type(nf_1), nf_1.is_integer())"
   ]
  },
  {
   "cell_type": "markdown",
   "id": "945dd317",
   "metadata": {},
   "source": [
    "- чому варто знати різницю між символами/стрічками та простими числами\n",
    "- для прикладу візьмемо арифметичні операції на стірчках та числах"
   ]
  },
  {
   "cell_type": "code",
   "execution_count": 7,
   "id": "fd6b29e5",
   "metadata": {},
   "outputs": [
    {
     "name": "stdout",
     "output_type": "stream",
     "text": [
      "Типи заданих змінних:  <class 'str'> <class 'str'> <class 'int'> <class 'int'>\n",
      "110\n",
      "True 100Це явно не число\n",
      "110\n"
     ]
    }
   ],
   "source": [
    "s1 = \"100\"\n",
    "s2 = \"Це явно не число\"\n",
    "n1 = 10\n",
    "n2 = int(s1)\n",
    "print(\"Типи заданих змінних: \", type(s1), type(s2), type(n1), type(n2))\n",
    "\n",
    "print(n1 + n2)\n",
    "print(s1.isdigit(), s1 + s2)\n",
    "print(int(s1) + n1)"
   ]
  },
  {
   "cell_type": "markdown",
   "id": "31719071",
   "metadata": {},
   "source": [
    "- в контексті тестування, нам потрібно знати як повадяться типи даних та як з ними працювати\n",
    "- простий приклад з input та санітизація даних"
   ]
  },
  {
   "cell_type": "markdown",
   "id": "a7295c8a",
   "metadata": {},
   "source": [
    "### Що таке санітизація даних?\n",
    "\n",
    "Санітизація даних — це процес очищення або перевірки даних, які вводить користувач, щоб переконатися, що вони безпечні та відповідають очікуваному формату. Це допомагає уникнути помилок у програмі та захищає від шкідливих даних.\n",
    "\n",
    "Наприклад, якщо користувач вводить число, потрібно переконатися, що це дійсно число, а не текст чи небезпечний код."
   ]
  },
  {
   "cell_type": "code",
   "execution_count": 8,
   "id": "5d7da9d5",
   "metadata": {},
   "outputs": [
    {
     "name": "stdout",
     "output_type": "stream",
     "text": [
      "Тип введених даних:  <class 'str'>\n",
      "Ви ввели число: 1\n"
     ]
    }
   ],
   "source": [
    "# Приклад санітизації даних з input\n",
    "user_input = input(\"Введіть число: \")\n",
    "print(\"Тип введених даних: \", type(user_input))\n",
    "if user_input.isdigit():\n",
    "    number = int(user_input)\n",
    "    print(\"Ви ввели число:\", number)\n",
    "else:\n",
    "    print(\"Помилка: потрібно ввести саме число!\")"
   ]
  },
  {
   "cell_type": "markdown",
   "id": "55a1ff52",
   "metadata": {},
   "source": [
    "- найпростішим варіантом є явна конвертація стрічки у число\n",
    "- якщо ми не використовуємо перевірку то можливі "
   ]
  },
  {
   "cell_type": "code",
   "execution_count": 9,
   "id": "fd271b76",
   "metadata": {},
   "outputs": [],
   "source": [
    "user_input = int(input(\"Введіть число: \"))"
   ]
  },
  {
   "cell_type": "markdown",
   "id": "51da26da",
   "metadata": {},
   "source": [
    "- поговоримо про відмінність між int і float \n",
    "- Python може сам змінювати тип даних та розширювати память під це тип"
   ]
  },
  {
   "cell_type": "code",
   "execution_count": 10,
   "id": "65e9cabc",
   "metadata": {},
   "outputs": [
    {
     "name": "stdout",
     "output_type": "stream",
     "text": [
      "<class 'int'> <class 'float'>\n",
      "True\n",
      "False\n",
      "4 True\n",
      "помилка\n",
      "a - b = 9999.999999999987 Чому такий результат?\n"
     ]
    }
   ],
   "source": [
    "i = 10\n",
    "f = 10.0\n",
    "print(type(i), type(f))\n",
    "print(i == f)\n",
    "print(i is f)  # перевірка на ідентичність обєктів\n",
    "print(i.bit_length(), f.is_integer())\n",
    "n: int = 1\n",
    "n += 1.0 # неявне перетворення\n",
    "type(n)\n",
    "if isinstance(n, int):\n",
    "    print(\"n is float\")\n",
    "else:\n",
    "    print(\"помилка\")\n",
    "\n",
    "a: int = 10000\n",
    "b: float = 0.0000000000125\n",
    "print(\"a - b =\", a - b, \"Чому такий результат?\")\n"
   ]
  },
  {
   "cell_type": "markdown",
   "id": "9c81bbc1",
   "metadata": {},
   "source": [
    "## Вчимо колекції (набори даних)\n",
    "- ми назвали це набором томущо ми можемо обєднувати різні типи даних, як прості стрічки, числа чи навіть самі колеції у єдине ціле\n",
    "- починаємо з списків (list) який є mutable колекцією "
   ]
  },
  {
   "cell_type": "code",
   "execution_count": 11,
   "id": "b567f7bb",
   "metadata": {},
   "outputs": [
    {
     "name": "stdout",
     "output_type": "stream",
     "text": [
      "[1, 3, 'hello', [5, 6, 7], None, <function func at 0x10ea4b600>, 'new item']\n",
      "[1, 3, 'hello']\n",
      "[1, 3, 'hello', [5, 6, 'world'], None, <function func at 0x10ea4b600>, 'new item']\n"
     ]
    }
   ],
   "source": [
    "def func():\n",
    "    pass\n",
    "\n",
    "list_1 = [1, 2.0, 3, \"hello\", 4.5, [5, 6, 7], None, func]\n",
    "list_1.append(\"new item\")\n",
    "list_1.remove(2.0)\n",
    "list_1.pop(3)\n",
    "print(list_1)\n",
    "print(list_1[0:3]) # слайс з 0 по 2 індекс\n",
    "# індексування\n",
    "list_1[3][-1] = \"world\"\n",
    "print(list_1)"
   ]
  },
  {
   "cell_type": "markdown",
   "id": "0dc45b62",
   "metadata": {},
   "source": [
    "- взаємо перетворення між списками та стрічками"
   ]
  },
  {
   "cell_type": "code",
   "execution_count": 12,
   "id": "babc9b61",
   "metadata": {},
   "outputs": [
    {
     "name": "stdout",
     "output_type": "stream",
     "text": [
      "['H', 'e', 'l', 'l', 'o']\n",
      "Це змінна з пустою стрічкою: \n",
      " її довжина: 1\n",
      "H\n",
      "e\n",
      "l\n",
      "l\n",
      "o\n"
     ]
    }
   ],
   "source": [
    "s = \"Hello\"\n",
    "list_s = list(s)\n",
    "print(list_s)\n",
    "s2 = '\\n'\n",
    "print(\"Це змінна з пустою стрічкою:\", s2, \"її довжина:\", len(s2))\n",
    "print(s2.join(list_s))"
   ]
  },
  {
   "cell_type": "markdown",
   "id": "55213add",
   "metadata": {},
   "source": [
    "- тепер розглянемо tuples, які є immutable колекціями"
   ]
  },
  {
   "cell_type": "code",
   "execution_count": 13,
   "id": "e077054b",
   "metadata": {},
   "outputs": [
    {
     "name": "stdout",
     "output_type": "stream",
     "text": [
      "(1, 2, 3, 1, 2, 3)\n",
      "(1, 2.0, 3, 'hello', 4.5, (5, 6, 7), None, <function func at 0x10ea4b600>)\n",
      "6 2 2\n"
     ]
    }
   ],
   "source": [
    "t = tuple([1, 2, 3, 1, 2, 3]) # перетворення списку у кортеж\n",
    "print( t )\n",
    "t2 = (1, 2.0, 3, \"hello\", 4.5, (5, 6, 7), None, func) # кортеж (tuple) - immutable колекція\n",
    "print(t2)\n",
    "a = t.count(1)\n",
    "print(len(t), a, t.index(3))"
   ]
  },
  {
   "cell_type": "markdown",
   "id": "81e2df6e",
   "metadata": {},
   "source": [
    "### Приклад: різниця між list та tuple на практиці\n",
    "- `list` можна змінювати (додавати, видаляти, змінювати елементи), а `tuple` — ні.\n",
    "- Наприклад, список покупок з магазину краще зберігати як list, бо він може змінюватись.\n",
    "- А координати точки на площині (x, y) зручно зберігати як tuple, бо вони не змінюються."
   ]
  },
  {
   "cell_type": "code",
   "execution_count": 14,
   "id": "54e06d80",
   "metadata": {},
   "outputs": [
    {
     "name": "stdout",
     "output_type": "stream",
     "text": [
      "Початковий список: ['хліб', 'молоко', 'яйця']\n",
      "Оновлений список: ['батон', 'молоко', 'яйця', 'сир']\n",
      "Координати точки: (10, 20)\n",
      "Помилка: 'tuple' object does not support item assignment\n"
     ]
    }
   ],
   "source": [
    "# Список покупок (list) — змінюється\n",
    "shopping_list = [\"хліб\", \"молоко\", \"яйця\"]\n",
    "print(\"Початковий список:\", shopping_list)\n",
    "shopping_list.append(\"сир\") # додаємо новий товар\n",
    "shopping_list[0] = \"батон\" # змінюємо перший елемент\n",
    "print(\"Оновлений список:\", shopping_list)\n",
    "\n",
    "# Координати точки (tuple) — не змінюється\n",
    "point = (10, 20)\n",
    "print(\"Координати точки:\", point)\n",
    "try:\n",
    "    point[0] = 15 # спроба змінити координату\n",
    "except TypeError as e:\n",
    "    print(\"Помилка:\", e)"
   ]
  },
  {
   "cell_type": "markdown",
   "id": "4e5394dc",
   "metadata": {},
   "source": [
    "### розглядаємо колекцію Set- кожен елементв в колекції є унікальним, тому Set - це унікальна колекція\n"
   ]
  },
  {
   "cell_type": "code",
   "execution_count": null,
   "id": "2040612c",
   "metadata": {},
   "outputs": [],
   "source": [
    "s = {1, 2, 3, 1, 2, 3} # множина (set) - унікальні значення\n",
    "print(len(s))\n",
    "l = [1, int(2), 3, \"1\", float(2), 3] \n",
    "# список (list) - можуть бути дублікати\n",
    "s = set(l)\n",
    "print(\"Початкова колекція:\", len(l), l, \"Після перетворення в Set:\", len(s), s)\n",
    "i = 2\n",
    "f = 2.0\n",
    "# ми не можемо порівнювати напряму 1 is 1.0, бо це різні типи\n",
    "# # у першому випадку i це вже int який присвоївся в неявному перетворенні\n",
    "# # коли беремо просто величину 2 то це просто величина без перетворення в обєкт\n",
    "print(type(i), type(2), type(f), type(2.0))\n",
    "if i is f: \n",
    "    print(\"Порівнюємо на ідентичність і маємо: True\")\n",
    "else: \n",
    "    print(\"Порівнюємо на ідентичність і маємо: False\")\n",
    "assert i is f, \"2 не є 2.0\""
   ]
  },
  {
   "cell_type": "code",
   "execution_count": null,
   "id": "2f319ae9",
   "metadata": {},
   "outputs": [],
   "source": [
    "def func(i: int):\n",
    "    assert type(i) is int, \"Згідно визначення вхідних аргументів має бути int а є:\" + str(type(i))\n",
    "    # якщо у функцію передали не  int то ми не будемо виконувати наступний код\n",
    "    print(\"Вхідний аргумент:\", i)\n",
    "\n",
    "func(1.0)"
   ]
  },
  {
   "cell_type": "markdown",
   "id": "83905ef7",
   "metadata": {},
   "source": [
    "- в багатьох мовах програмування, пошук унікальних елементів, це завжди якийсь алгоритм"
   ]
  },
  {
   "cell_type": "markdown",
   "id": "e101e93e",
   "metadata": {},
   "source": [
    "- Set не гарантує що дані будуть впорядковані- це просто куча унікальних значень з яких ми можемо по одному вибирати\n",
    "- ми не можемо мати в Set інші колекції, але можна мати просто типи int str"
   ]
  },
  {
   "cell_type": "markdown",
   "id": "b67ebd2b",
   "metadata": {},
   "source": [
    "### Словники\n",
    "- Словники завжди мають пару з key:value (це один елемент словника)\n",
    "- ключі мають бути унікальними та ніколи не повторюватись\n",
    "- ключі можуть бути як цифрами що подібно до списків або словами (іменними позиціями)\n",
    "- дата завжди унікальний ключ\n",
    "- словники повністю емелюють формат JSON"
   ]
  },
  {
   "cell_type": "code",
   "execution_count": null,
   "id": "76035e10",
   "metadata": {},
   "outputs": [],
   "source": [
    "d = {\"name\": 1, 0: \"Нуль\", 1: 1, \"Один\": 1, 0: \"Перевизначив\"}\n",
    "print(d)\n",
    "d[\"Нуль\"] = 0\n",
    "print(d)\n",
    "print(d[0], d[\"Нуль\"])\n",
    "\n",
    "Student = {\"Прізвище\": [\"Б\", \"А\"], \"Імя\": [\"Богдан\", \"Василь\"]}\n",
    "print(Student[\"Прізвище\"][0], Student[\"Імя\"][0])\n",
    "d.pop(0)\n",
    "print(d)"
   ]
  },
  {
   "cell_type": "markdown",
   "id": "f83ece67",
   "metadata": {},
   "source": [
    "- робота з словниками, додавання, видалення елементів та робота з ними- ключі мають бути унікальними, тому використовуємо прості типи даних- значення можуть бути будь-якого типу, але доступ до них зберігається відповідно до типу (якщо словники то по ключах, якщо списки - індекси)"
   ]
  },
  {
   "cell_type": "markdown",
   "id": "7569932a",
   "metadata": {},
   "source": [
    "## Форматування виводу\n",
    "- дкілька методів форматування тексту для виводу\n",
    "- використовуємо властивості функції print\n",
    "- використовувати властивості стрічок (конкатенацію) відформатувати стрічку до того як ми її виведемо\n",
    "- використати методи format в стрічках"
   ]
  },
  {
   "cell_type": "code",
   "execution_count": 6,
   "id": "e0d7de2f",
   "metadata": {},
   "outputs": [
    {
     "name": "stdout",
     "output_type": "stream",
     "text": [
      "Привіт Нас 10 Ми почали вивчати Python\n",
      "Привіт Нас 10 Ми почали вивчати Python\n",
      "1. Статус виконання: Привіт Нас 10 Ми почали вивчати Python\n",
      "1. Статус виконання: Привіт Нас 10 Ми почали вивчати Python\n",
      "1. Статус виконання: 10 10 <<Нас>> 10\n",
      "1. Статус виконання: 10 10 <<Нас>> 10\n",
      "різати стрічки oWo або обмежувати числа 12.35\n",
      "Вивід: He 12.00\n",
      "Статус: успішно, код: 200\n",
      "Статус: 10, код: 200, число: 12.346, стрічка: oWo\n",
      "Початок: |a         |\n",
      "Початок: |ab        |\n",
      "Початок: |abc       |\n",
      "Початок: |abcd      |\n"
     ]
    }
   ],
   "source": [
    "a = 10\n",
    "print(\"Привіт\", \"Нас\", a, \"Ми\", \"почали\", \"вивчати\", \"Python\")\n",
    "start = \"Привіт\"\n",
    "middle = \"Нас\"\n",
    "end = \"Ми почали вивчати Python\"\n",
    "final_string = start + \" \" + middle + \" \" + str(a) + \" \" + end\n",
    "print(final_string)\n",
    "# це робиться коли є декілька виводів, наприклад stdout і log файл\n",
    "message = \"1. Статус виконання: \" + final_string\n",
    "print(\"1. Статус виконання: \" + final_string)\n",
    "print(message)\n",
    "s = \"1. Статус виконання: {} {} <<{}>> {}\".format(a, a, middle, a)\n",
    "print(s)\n",
    "# позиційна вставка дозволяє використовувати один і той же аргумент декілька разів\n",
    "s2 = \"1. Статус виконання: {0} {0} <<{1}>> {0}\".format(a, middle)\n",
    "print(s2)\n",
    "f = 12.3456789\n",
    "s3 = \"різати стрічки {1:.3s} або обмежувати числа {0:.2f}\".format(f, \"HelloWorld\"[4:7])\n",
    "print(s3)\n",
    "s4 = \"Вивід: %.2s %.2f\" % (\"Hello\", 12.0003) \n",
    "print(s4)\n",
    "d = {\"code\": 200, \"status\": \"успішно\"}\n",
    "s5 = \"Статус: {status}, код: {code}\".format(**d)\n",
    "print(s5)\n",
    "s6 = f\"Статус: {a}, код: {d['code']}, число: {f:.3f}, стрічка: {'HelloWorld'[4:7]}\"\n",
    "print(s6)\n",
    "for s in [\"a\", \"ab\", \"abc\", \"abcd\"]: \n",
    "    template = f\"Початок: |{s:<10}|\" \n",
    "    print(template)"
   ]
  },
  {
   "cell_type": "markdown",
   "id": "93257a15",
   "metadata": {},
   "source": [
    "\n",
    "## Вбудовані константи\n",
    "- None - важлива константа яка означає ніщо\n",
    "- ніколи не можна перевизначати ні константи ні вбудовані функції"
   ]
  },
  {
   "cell_type": "code",
   "execution_count": 9,
   "id": "ccfbc1e4",
   "metadata": {},
   "outputs": [
    {
     "name": "stdout",
     "output_type": "stream",
     "text": [
      "None\n",
      "[1, 6, 3, 9, 1]\n",
      "None\n",
      "[1, 1, 3, 6, 9]\n",
      "Чому це не є рівним False ?\n"
     ]
    }
   ],
   "source": [
    "def fun(): \n",
    "    return NotImplemented\n",
    "fun()\n",
    "def fun(): \n",
    "    return\n",
    "print(fun())\n",
    "l = [1, 6, 3, 9, 1]\n",
    "print(l)\n",
    "print(l.sort())\n",
    "print(l)\n",
    "#None = \"Правда\"\n",
    "\n",
    "# False = 1 # це неможна, буде помилка\n",
    "false = True\n",
    "print(\"Чому це не є рівним\", false == False, \"?\")"
   ]
  },
  {
   "cell_type": "markdown",
   "id": "ddc0b90a",
   "metadata": {},
   "source": [
    "### Вбудовані функції\n",
    "- Пайтон дозволяє перевизначати назви функцій, але це потім ломає їх виконання"
   ]
  },
  {
   "cell_type": "code",
   "execution_count": 13,
   "id": "2fcd1dee",
   "metadata": {},
   "outputs": [
    {
     "name": "stdout",
     "output_type": "stream",
     "text": [
      "щось\n",
      "a\n",
      "1\n",
      "True\n"
     ]
    }
   ],
   "source": [
    "#print = \"123\"\n",
    "#Якщо ми виконаємо цей код, то отримаємо помилку, бо print це вбудована функція\n",
    "print(\"щось\")\n",
    "\n",
    "for i in map(min, [\"asdf\", [1,2,3,124]]):\n",
    "    print(i)\n",
    "\n",
    "FOR = 1 # але не можна робити for з малої букви\n",
    "\n",
    "print(any([1!=2, 5==\"5\", 0 == False]))"
   ]
  },
  {
   "cell_type": "code",
   "execution_count": 15,
   "id": "cfa448ff",
   "metadata": {},
   "outputs": [
    {
     "name": "stdout",
     "output_type": "stream",
     "text": [
      "Help on built-in function any in module builtins:\n",
      "\n",
      "any(iterable, /)\n",
      "    Return True if bool(x) is True for any x in the iterable.\n",
      "\n",
      "    If the iterable is empty, return False.\n",
      "\n"
     ]
    }
   ],
   "source": [
    "help(any)"
   ]
  },
  {
   "cell_type": "markdown",
   "id": "1e23e1ef",
   "metadata": {},
   "source": [
    "## Цикли\n",
    "- цикли дозволяють повторити виконання певної операції\n",
    "- є тільки два цикли, for та while\n",
    "1. `for` - призначений для ітерації по елементах\n",
    "2. `while` - умовний цикл, призначений для умовних виконання тіла циклу"
   ]
  },
  {
   "cell_type": "code",
   "execution_count": 19,
   "id": "e4f7e594",
   "metadata": {},
   "outputs": [
    {
     "name": "stdout",
     "output_type": "stream",
     "text": [
      "стрічка для виводуДалі\n",
      "стрічка для виводуНаступний рядок\n",
      "стрічка для виводуДалі\n",
      "стрічка для виводуДалі\n",
      "стрічка для виводуНаступний рядок\n",
      "стрічка для виводуДалі\n"
     ]
    }
   ],
   "source": [
    "s = \"стрічка для виводу\"\n",
    "print(s + \"Далі\")\n",
    "print(s + \"Наступний рядок\" )\n",
    "print(s + \"Далі\")\n",
    "\n",
    "for i in [\"Далі\", \"Наступний рядок\", \"Далі\"]:\n",
    "    print(s + i)"
   ]
  },
  {
   "cell_type": "markdown",
   "id": "1a83de7e",
   "metadata": {},
   "source": [
    "ЗАВДАННЯ:\n",
    "- вивести стрічку з символами декілька 5 раз"
   ]
  },
  {
   "cell_type": "code",
   "execution_count": 29,
   "id": "9546520d",
   "metadata": {},
   "outputs": [
    {
     "name": "stdout",
     "output_type": "stream",
     "text": [
      "e0Вивід for  0\n",
      "e1Вивід for  1\n",
      "e2Вивід for  2\n",
      "e3Вивід for  3\n",
      "e4Вивід for  4\n",
      "e0Вивід while 0\n",
      "e1Вивід while 1\n",
      "e2Вивід while 2\n",
      "e3Вивід while 3\n",
      "e4Вивід while 4\n",
      "В циклі for вивели = a\n",
      "В циклі for вивели = b\n",
      "В циклі for вивели = c\n",
      "В циклі for вивели = d\n",
      "В циклі for вивели = e\n",
      "В циклі while вивели = a\n",
      "В циклі while вивели = b\n",
      "В циклі while вивели = c\n",
      "В циклі while вивели = d\n",
      "В циклі while вивели = e\n",
      "В циклі while з індексом вивели = a\n",
      "В циклі while з індексом вивели = b\n",
      "В циклі while з індексом вивели = c\n",
      "В циклі while з індексом вивели = d\n",
      "В циклі while з індексом вивели = e\n"
     ]
    }
   ],
   "source": [
    "for i in range(5):\n",
    "    print(s + str(i) + \"Вивід for \", i)\n",
    "\n",
    "i = 0 # лічильник\n",
    "while i < 5:\n",
    "    print(s + str(i) + \"Вивід while\", i)\n",
    "    i += 1\n",
    "\n",
    "al = [\"a\", \"b\", \"c\", \"d\", \"e\"]\n",
    "for s in al:\n",
    "    print(f\"В циклі for вивели = {s}\")\n",
    "\n",
    "while al: # поки список не порожній\n",
    "    print(f\"В циклі while вивели = {al.pop(0)}\")\n",
    "\n",
    "#ми робимо переініціалізацію списку бо він став порожнім через поп\n",
    "al = [\"a\", \"b\", \"c\", \"d\", \"e\"]\n",
    "i = 0\n",
    "while i < len(al):\n",
    "    print(f\"В циклі while з індексом вивели = {al[i]}\")\n",
    "    i += 1"
   ]
  },
  {
   "cell_type": "markdown",
   "id": "427d88bd",
   "metadata": {},
   "source": [
    "ЗАВДАННЯ\n",
    "- ми маємо пачку M&Ms Мндс, ми хочемо взяти 5 цукерок і подивитись якого вони кольору"
   ]
  },
  {
   "cell_type": "code",
   "execution_count": 42,
   "id": "c75e9c14",
   "metadata": {},
   "outputs": [
    {
     "name": "stdout",
     "output_type": "stream",
     "text": [
      "В мене Пачка з 700 цукерок M&Ms\n",
      "Взяли цукерку 81 кольору: синій\n",
      "Взяли цукерку 436 кольору: синій\n",
      "Взяли цукерку 20 кольору: помаранчевий\n",
      "Взяли цукерку 546 кольору: помаранчевий\n",
      "Взяли цукерку 177 кольору: синій\n",
      "Взяли цукерку #127 кольору: червоний\n",
      "Взяли цукерку #584 кольору: помаранчевий\n",
      "Взяли цукерку #427 кольору: помаранчевий\n",
      "Взяли цукерку #139 кольору: червоний\n",
      "Взяли цукерку #72 кольору: синій\n"
     ]
    }
   ],
   "source": [
    "mm_unic = [\"червоний\", \"жовтий\", \"зелений\", \"коричневий\", \"помаранчевий\", \"синій\", \"фіолетовий\"]\n",
    "import random\n",
    "mm = 100 * mm_unic\n",
    "random.shuffle(mm)\n",
    "print(f\"В мене Пачка з {len(mm)} цукерок M&Ms\")\n",
    "\n",
    "for i in random.sample(range(len(mm)), k=5):\n",
    "    print(f\"Взяли цукерку {i} кольору: {mm[i]}\")\n",
    "\n",
    "i = 0\n",
    "while i < 5:\n",
    "    n = random.randint(0, len(mm)-1)\n",
    "    print(f\"Взяли цукерку #{n} кольору:\", mm[n])\n",
    "    i += 1"
   ]
  },
  {
   "cell_type": "markdown",
   "id": "2396e4db",
   "metadata": {},
   "source": [
    "ЗАВДАННЯ\n",
    "- в нас є кубик і ми хочемо щоб випало число 6 (ми кидаємо кубик допоки не випадає 6)"
   ]
  },
  {
   "cell_type": "code",
   "execution_count": null,
   "id": "b49064f4",
   "metadata": {},
   "outputs": [
    {
     "name": "stdout",
     "output_type": "stream",
     "text": [
      "1. Випало число на кубику: 3\n",
      "2. Випало число на кубику: 5\n",
      "3. Випало число на кубику: 1\n",
      "4. Випало число на кубику: 4\n",
      "5. Випало число на кубику: 4\n",
      "6. Випало число на кубику: 5\n",
      "7. Випало число на кубику: 4\n",
      "8. Випало число на кубику: 1\n",
      "9. Випало число на кубику: 4\n",
      "10. Випало число на кубику: 1\n",
      "11. Випало число на кубику: 5\n",
      "12. Випало число на кубику: 6\n",
      "1. Випало число на кубику: 6\n"
     ]
    }
   ],
   "source": [
    "import random\n",
    "\n",
    "r = None\n",
    "i = 1\n",
    "while r != 6:\n",
    "    r = random.randint(1, 6) # симулює кидання кубика\n",
    "    print(f\"{i}. Випало число на кубику: {r}\")\n",
    "    i += 1\n",
    "\n",
    "for _ in range(20):\n",
    "    r = random.randint(1, 6)\n",
    "    print(f\"{_+1}. Випало число на кубику: {r}\")\n",
    "    if r == 6:\n",
    "        break"
   ]
  },
  {
   "cell_type": "markdown",
   "id": "929d9def",
   "metadata": {},
   "source": [
    "- цикл for може бути використаним з блоком else\n",
    "- є зарезервовані конструкції які використовуються тільки в циклах break continue"
   ]
  },
  {
   "cell_type": "code",
   "execution_count": 59,
   "id": "30003af6",
   "metadata": {},
   "outputs": [
    {
     "name": "stdout",
     "output_type": "stream",
     "text": [
      "1\n",
      "Це також гарантовано виконається після циклу\n",
      "Це виведеться завжди 0\n",
      "Це парне число, ми його не будемо виводити\n",
      "Це виведеться завжди 1\n",
      "Це непарне число: 1\n",
      "Це виведеться завжди 2\n",
      "Це парне число, ми його не будемо виводити\n",
      "Це виведеться завжди 3\n",
      "СТОП, ми припиняємо цикл\n"
     ]
    }
   ],
   "source": [
    "for _ in range(0):\n",
    "    print(0)\n",
    "else:\n",
    "    print(1)\n",
    "print(\"Це також гарантовано виконається після циклу\")\n",
    "\n",
    "for i in range(5):\n",
    "    print(\"Це виведеться завжди\", i)\n",
    "    if i % 2 == 0:\n",
    "        print(\"Це парне число, ми його не будемо виводити\")\n",
    "        continue\n",
    "    if i == 3:\n",
    "        print(\"СТОП, ми припиняємо цикл\")\n",
    "        break\n",
    "    print(\"Це непарне число:\", i)"
   ]
  },
  {
   "cell_type": "code",
   "execution_count": 60,
   "id": "5cce88f1",
   "metadata": {},
   "outputs": [
    {
     "name": "stdout",
     "output_type": "stream",
     "text": [
      "Цикл продовжується\n",
      "Пропускаємо решту коду і переходимо до наступної ітерації\n",
      "Цикл продовжується\n",
      "Цикл продовжується\n",
      "Цикл продовжується\n"
     ]
    }
   ],
   "source": [
    "while (s := input(\"Введіть 'q' щоб вийти: \")) != 'q':\n",
    "    print(\"Цикл продовжується\")\n",
    "    if s == 'e':\n",
    "        print(\"Пропускаємо решту коду і переходимо до наступної ітерації\")\n",
    "        continue"
   ]
  },
  {
   "cell_type": "markdown",
   "id": "6e9f97bf",
   "metadata": {},
   "source": [
    "- однорядкові цикли (one liners, list comprehensions)"
   ]
  },
  {
   "cell_type": "code",
   "execution_count": 66,
   "id": "b73a07d2",
   "metadata": {},
   "outputs": [
    {
     "name": "stdout",
     "output_type": "stream",
     "text": [
      "[0, 1, 0, 1, 3, 1, 5, 7, 8, 3, 8, 0, 0, 12, 5, 4, 2, 9, 2, 13]\n",
      "[0, 0, 0, 2, 1, 1, 4, 4, 2, 3, 5, 10, 6, 8, 11, 10, 1, 6, 1, 4]\n",
      "<a\n",
      "<b\n",
      "<c\n",
      ">a\n",
      ">b\n",
      ">c\n"
     ]
    }
   ],
   "source": [
    "la = []\n",
    "for _ in range(20):\n",
    "    la.append(random.randint(0, _))\n",
    "print(la)\n",
    "\n",
    "la2 = [random.randint(0, _) for _ in range(20)]\n",
    "print(la2)\n",
    "\n",
    "for i in [\"a\", \"b\", \"c\"]:\n",
    "    print(f\"<{i}\")\n",
    "\n",
    "print(\"\\n\".join(f\">{i}\" for i in [\"a\", \"b\", \"c\"]))"
   ]
  },
  {
   "cell_type": "markdown",
   "id": "a66ad640",
   "metadata": {},
   "source": [
    "### Розгалуження\n",
    "- в кожній мові є такі оператори, які дозволяють зробити вибір"
   ]
  },
  {
   "cell_type": "code",
   "execution_count": 2,
   "id": "fd053137",
   "metadata": {},
   "outputs": [
    {
     "name": "stdout",
     "output_type": "stream",
     "text": [
      "None\n",
      "0\n",
      "False\n",
      "\n",
      "[]\n",
      "{}\n"
     ]
    }
   ],
   "source": [
    "for f in [None, 0, False, \"\", [], {},]:\n",
    "    print(f)\n",
    "    if f:\n",
    "        print(\"Це ніколи не виконається\")"
   ]
  },
  {
   "cell_type": "code",
   "execution_count": 12,
   "id": "13e3237a",
   "metadata": {},
   "outputs": [
    {
     "name": "stdout",
     "output_type": "stream",
     "text": [
      "Це завжди виконається\n",
      "Це буде присвоєно при True\n",
      "Це буде True\n"
     ]
    }
   ],
   "source": [
    "p = [5]\n",
    "if p:\n",
    "    print(\"Це завжди виконається\")\n",
    "p.pop()\n",
    "if p:\n",
    "    print(\"Це ніколи не виконається\")\n",
    "\n",
    "# тут хитрість, коли перша операція повертає True то друга не виконується\n",
    "# і ми отримуємо в h значення True\n",
    "h = len(p) > 0 or \"Це буде присвоєно при True\"\n",
    "print(h)\n",
    "#\n",
    "l = [\"Це буде False\", \"Це буде True\"]\n",
    "print(l[True])"
   ]
  },
  {
   "cell_type": "code",
   "execution_count": 15,
   "id": "83b0e648",
   "metadata": {},
   "outputs": [
    {
     "name": "stdout",
     "output_type": "stream",
     "text": [
      "Це виконається\n",
      "Тут виведеться\n"
     ]
    },
    {
     "data": {
      "text/plain": [
       "list"
      ]
     },
     "execution_count": 15,
     "metadata": {},
     "output_type": "execute_result"
    }
   ],
   "source": [
    "if False:\n",
    "    pass\n",
    "else:\n",
    "    print(\"Це виконається\")\n",
    "i = [print(\"Це виконається\") if False else print(\"Тут виведеться\")]\n",
    "type(i)"
   ]
  },
  {
   "cell_type": "markdown",
   "id": "36c8768b",
   "metadata": {},
   "source": [
    "- комбінація циклів та умов"
   ]
  },
  {
   "cell_type": "code",
   "execution_count": 19,
   "id": "69d032da",
   "metadata": {},
   "outputs": [
    {
     "name": "stdout",
     "output_type": "stream",
     "text": [
      "0 - парне число\n",
      "1 - непарне число\n",
      "2 - парне число\n",
      "3 - непарне число\n",
      "4 - парне число\n",
      "0 - парне число\n",
      "2 - парне число\n",
      "4 - парне число\n"
     ]
    }
   ],
   "source": [
    "for i in range(5):\n",
    "    if i % 2 == 0:\n",
    "        print(f\"{i} - парне число\")\n",
    "    else:\n",
    "        print(f\"{i} - непарне число\")\n",
    "\n",
    "i = [print(f\"{i} - парне число\") for i in range(5) if i % 2 == 0]"
   ]
  },
  {
   "cell_type": "markdown",
   "id": "c189d2f0",
   "metadata": {},
   "source": [
    "### Виловлювання помилок\n",
    "- використовується коли помилка залежить від зовнішніх чинників, або є імовірність її винекнення (код не заввжди видає помилку)\n",
    "- except - це свого роду опрацьовувач помилки (тобто якщо помилка виникнула то можливо потрібен інший код для роботи програми)"
   ]
  },
  {
   "cell_type": "code",
   "execution_count": 32,
   "id": "50ca92be",
   "metadata": {},
   "outputs": [
    {
     "name": "stdout",
     "output_type": "stream",
     "text": [
      "Цей код виконається, бо ще недойшов до помилки\n",
      "і=0, k=0\n",
      "Виникла помилка: division by zero бо k=0\n",
      "Значення j=1 після обробки\n",
      "і=1, k=0\n",
      "Виникла помилка: division by zero бо k=0\n",
      "Значення j=1 після обробки\n",
      "і=2, k=1\n",
      "Значення j=3.0 після обробки\n",
      "і=3, k=0\n",
      "Виникла помилка: division by zero бо k=0\n",
      "Значення j=1 після обробки\n",
      "і=4, k=1\n",
      "Значення j=5.0 після обробки\n",
      "і=5, k=0\n",
      "Виникла помилка: division by zero бо k=0\n",
      "Значення j=1 після обробки\n",
      "і=6, k=1\n",
      "Значення j=7.0 після обробки\n",
      "і=7, k=1\n",
      "Значення j=8.0 після обробки\n",
      "і=8, k=1\n",
      "Значення j=9.0 після обробки\n",
      "і=9, k=1\n",
      "Значення j=10.0 після обробки\n",
      "Цей код не виконається, бо дійшов до помилки\n"
     ]
    }
   ],
   "source": [
    "import random\n",
    "print(\"Цей код виконається, бо ще недойшов до помилки\")\n",
    "p = 2\n",
    "e = None\n",
    "for i in range(10):\n",
    "    k = random.randint(0, 1)\n",
    "    print(f\"і={i}, k={k}\")\n",
    "    try:\n",
    "        j = i/k\n",
    "    except (NameError, ZeroDivisionError) as e:\n",
    "        j = 0\n",
    "        print(f\"Виникла помилка: {e} бо k={k}\")\n",
    "    finally:\n",
    "        j += 1\n",
    "        print(f\"Значення j={j} після обробки\")\n",
    "print(\"Цей код не виконається, бо дійшов до помилки\")\n"
   ]
  }
 ],
 "metadata": {
  "kernelspec": {
   "display_name": "3.13.7",
   "language": "python",
   "name": "python3"
  },
  "language_info": {
   "codemirror_mode": {
    "name": "ipython",
    "version": 3
   },
   "file_extension": ".py",
   "mimetype": "text/x-python",
   "name": "python",
   "nbconvert_exporter": "python",
   "pygments_lexer": "ipython3",
   "version": "3.13.7"
  }
 },
 "nbformat": 4,
 "nbformat_minor": 5
}
