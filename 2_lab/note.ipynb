{
 "cells": [
  {
   "cell_type": "markdown",
   "id": "20d64cb0",
   "metadata": {},
   "source": [
    "# Основи Python\n",
    "\n",
    "## Типи даних\n",
    "\n",
    "### Стрічкові дані (букви або слова або речення)"
   ]
  },
  {
   "cell_type": "code",
   "execution_count": 29,
   "id": "365d0db0",
   "metadata": {},
   "outputs": [
    {
     "name": "stdout",
     "output_type": "stream",
     "text": [
      "<class 'str'>  а також  <class 'str'>  а також  <class 'str'>  а також  <class 'str'>\n"
     ]
    }
   ],
   "source": [
    "st_1 = \"Hello\"\n",
    "st_2 = 'World'\n",
    "st_3 = \"\"\"Hello World\"\"\"\n",
    "st_4 = str(123)\n",
    "print(type(st_1), \" а також \", type(st_2), \" а також \", type(st_3), \" а також \", type(st_4))"
   ]
  },
  {
   "cell_type": "markdown",
   "id": "9e23993a",
   "metadata": {},
   "source": [
    "- будь-що у Python є обєктом, і створені нами змінні також є обєктами класу `<class 'str'>`\n",
    "- з ООП ми знаємо що в класі є атрибути та методи які можуть бути застосовані до обєкту"
   ]
  },
  {
   "cell_type": "code",
   "execution_count": 30,
   "id": "80f69bef",
   "metadata": {},
   "outputs": [
    {
     "name": "stdout",
     "output_type": "stream",
     "text": [
      "Звертаємось до обєкта та шукаємо кількість входжень літери 'l': 2\n"
     ]
    }
   ],
   "source": [
    "st_out = \"звертаємось до обєкта та шукаємо кількість входжень літери 'l':\"\n",
    "print(st_out.capitalize(), st_1.count('l'))"
   ]
  },
  {
   "cell_type": "markdown",
   "id": "b0d764e6",
   "metadata": {},
   "source": [
    "- оскільки стрічки є обєктами і слова складаються з літер, ми можемо пройтися по всіх літерах у циклі\n",
    "- а також виокремлювати слайси з стрічки"
   ]
  },
  {
   "cell_type": "code",
   "execution_count": 2,
   "id": "2d8bb514",
   "metadata": {},
   "outputs": [
    {
     "name": "stdout",
     "output_type": "stream",
     "text": [
      "['Привіт', 'по', 'буквах']\n",
      "->  П\n",
      "->  р\n",
      "->  и\n",
      "->  в\n",
      "->  і\n",
      "->  т\n",
      "->   \n",
      "->  п\n",
      "->  о\n",
      "->   \n",
      "->  б\n",
      "->  у\n",
      "->  к\n",
      "->  в\n",
      "->  а\n",
      "->  х\n",
      "П\n",
      "по \n",
      "буквах\n"
     ]
    }
   ],
   "source": [
    "a = \"Привіт по буквах\"\n",
    "print(a.split()) # розбиває на слова\n",
    "for letter in a:\n",
    "    print(\"-> \", letter)\n",
    "# ---\n",
    "print(a[0])  # перший символ\n",
    "print(a[7:10])  # слайс з 0 по 6 символ\n",
    "print(a[10:])"
   ]
  },
  {
   "cell_type": "markdown",
   "id": "1da8412e",
   "metadata": {},
   "source": [
    "### Числові дані\n",
    "- як і стрічки, всі цифри також будуть обєктами\n",
    "- однак, якщо цифру взяти в лапки, тому це буде символ а значить Python буде розуміти його як стрічку"
   ]
  },
  {
   "cell_type": "code",
   "execution_count": 32,
   "id": "f05c9079",
   "metadata": {},
   "outputs": [
    {
     "name": "stdout",
     "output_type": "stream",
     "text": [
      "<class 'int'>  а також  <class 'float'>  а також  <class 'str'>\n"
     ]
    }
   ],
   "source": [
    "n_1 = 123\n",
    "n_2 = 12.34\n",
    "ns_1 = \"123\"\n",
    "print(type(n_1), \" а також \", type(n_2), \" а також \", type(ns_1))"
   ]
  },
  {
   "cell_type": "markdown",
   "id": "5b76bb92",
   "metadata": {},
   "source": [
    "- ми можемо задавати числа у наступному вигляді\n",
    "- можемо явна вказувати тип даних який присвоюється змінній\n",
    "- або задавати тип самої змінної а потім поміщати туди дані\n",
    "- Python автоматично розпізнає тип даних та відповідно конвертує змінну\n",
    "- для того щоб була строга типізація використовують бібліотеки typing або pydantic"
   ]
  },
  {
   "cell_type": "code",
   "execution_count": null,
   "id": "38e9953c",
   "metadata": {},
   "outputs": [
    {
     "name": "stdout",
     "output_type": "stream",
     "text": [
      "1000000  а також  <class 'str'>\n",
      "12.34  належить типу  <class 'float'>  а також  12.5  належить типу  <class 'float'>\n"
     ]
    }
   ],
   "source": [
    "ni_1 = 1_000_000\n",
    "ni_2 = 1e6\n",
    "# явно вкзати тип\n",
    "ni_1 = int(1000000)\n",
    "ni_2: int|float = \"12\"\n",
    "print(ni_1, \" а також \", type(ni_2) )\n",
    "nf_1 = float(12.34)\n",
    "nf_2 = 12.5\n",
    "print(nf_1, \" належить типу \", type(nf_1), \" а також \", nf_2, \" належить типу \", type(nf_2))"
   ]
  },
  {
   "cell_type": "markdown",
   "id": "7fe51ea3",
   "metadata": {},
   "source": [
    "- а як доступатись до цифри як обєкта?"
   ]
  },
  {
   "cell_type": "code",
   "execution_count": 34,
   "id": "7a1fe8ef",
   "metadata": {},
   "outputs": [
    {
     "name": "stdout",
     "output_type": "stream",
     "text": [
      "<class 'int'> True <class 'float'> False\n"
     ]
    }
   ],
   "source": [
    "print(type(ni_1), ni_1.is_integer(), type(nf_1), nf_1.is_integer())"
   ]
  },
  {
   "cell_type": "markdown",
   "id": "945dd317",
   "metadata": {},
   "source": [
    "- чому варто знати різницю між символами/стрічками та простими числами\n",
    "- для прикладу візьмемо арифметичні операції на стірчках та числах"
   ]
  },
  {
   "cell_type": "code",
   "execution_count": 8,
   "id": "fd6b29e5",
   "metadata": {},
   "outputs": [
    {
     "name": "stdout",
     "output_type": "stream",
     "text": [
      "Типи заданих змінних:  <class 'str'> <class 'str'> <class 'int'> <class 'int'>\n",
      "110\n",
      "True 100Це явно не число\n",
      "110\n"
     ]
    }
   ],
   "source": [
    "s1 = \"100\"\n",
    "s2 = \"Це явно не число\"\n",
    "n1 = 10\n",
    "n2 = int(s1)\n",
    "print(\"Типи заданих змінних: \", type(s1), type(s2), type(n1), type(n2))\n",
    "\n",
    "print(n1 + n2)\n",
    "print(s1.isdigit(), s1 + s2)\n",
    "print(int(s1) + n1)"
   ]
  },
  {
   "cell_type": "markdown",
   "id": "31719071",
   "metadata": {},
   "source": [
    "- в контексті тестування, нам потрібно знати як повадяться типи даних та як з ними працювати\n",
    "- простий приклад з input та санітизація даних"
   ]
  },
  {
   "cell_type": "markdown",
   "id": "a7295c8a",
   "metadata": {},
   "source": [
    "### Що таке санітизація даних?\n",
    "\n",
    "Санітизація даних — це процес очищення або перевірки даних, які вводить користувач, щоб переконатися, що вони безпечні та відповідають очікуваному формату. Це допомагає уникнути помилок у програмі та захищає від шкідливих даних.\n",
    "\n",
    "Наприклад, якщо користувач вводить число, потрібно переконатися, що це дійсно число, а не текст чи небезпечний код."
   ]
  },
  {
   "cell_type": "code",
   "execution_count": 11,
   "id": "5d7da9d5",
   "metadata": {},
   "outputs": [
    {
     "name": "stdout",
     "output_type": "stream",
     "text": [
      "Тип введених даних:  <class 'str'>\n",
      "Помилка: потрібно ввести саме число!\n"
     ]
    }
   ],
   "source": [
    "# Приклад санітизації даних з input\n",
    "user_input = input(\"Введіть число: \")\n",
    "print(\"Тип введених даних: \", type(user_input))\n",
    "if user_input.isdigit():\n",
    "    number = int(user_input)\n",
    "    print(\"Ви ввели число:\", number)\n",
    "else:\n",
    "    print(\"Помилка: потрібно ввести саме число!\")"
   ]
  },
  {
   "cell_type": "markdown",
   "id": "55a1ff52",
   "metadata": {},
   "source": [
    "- найпростішим варіантом є явна конвертація стрічки у число\n",
    "- якщо ми не використовуємо перевірку то можливі "
   ]
  },
  {
   "cell_type": "code",
   "execution_count": 12,
   "id": "fd271b76",
   "metadata": {},
   "outputs": [
    {
     "ename": "ValueError",
     "evalue": "invalid literal for int() with base 10: 'вапва'",
     "output_type": "error",
     "traceback": [
      "\u001b[31m---------------------------------------------------------------------------\u001b[39m",
      "\u001b[31mValueError\u001b[39m                                Traceback (most recent call last)",
      "\u001b[36mCell\u001b[39m\u001b[36m \u001b[39m\u001b[32mIn[12]\u001b[39m\u001b[32m, line 1\u001b[39m\n\u001b[32m----> \u001b[39m\u001b[32m1\u001b[39m user_input = \u001b[38;5;28;43mint\u001b[39;49m\u001b[43m(\u001b[49m\u001b[38;5;28;43minput\u001b[39;49m\u001b[43m(\u001b[49m\u001b[33;43m\"\u001b[39;49m\u001b[33;43mВведіть число: \u001b[39;49m\u001b[33;43m\"\u001b[39;49m\u001b[43m)\u001b[49m\u001b[43m)\u001b[49m\n",
      "\u001b[31mValueError\u001b[39m: invalid literal for int() with base 10: 'вапва'"
     ]
    }
   ],
   "source": [
    "user_input = int(input(\"Введіть число: \"))"
   ]
  },
  {
   "cell_type": "markdown",
   "id": "51da26da",
   "metadata": {},
   "source": [
    "- поговоримо про відмінність між int і float \n",
    "- Python може сам змінювати тип даних та розширювати память під це тип"
   ]
  },
  {
   "cell_type": "code",
   "execution_count": null,
   "id": "65e9cabc",
   "metadata": {},
   "outputs": [
    {
     "name": "stdout",
     "output_type": "stream",
     "text": [
      "<class 'int'> <class 'float'>\n",
      "True\n",
      "False\n",
      "4 True\n",
      "помилка\n",
      "a - b = 9999.999999999987 Чому такий результат?\n",
      "math.fabs(a - b) = 9999.999999999987\n"
     ]
    }
   ],
   "source": [
    "i = 10\n",
    "f = 10.0\n",
    "print(type(i), type(f))\n",
    "print(i == f)\n",
    "print(i is f)  # перевірка на ідентичність обєктів\n",
    "print(i.bit_length(), f.is_integer())\n",
    "n: int = 1\n",
    "n += 1.0 # неявне перетворення\n",
    "type(n)\n",
    "if isinstance(n, int):\n",
    "    print(\"n is float\")\n",
    "else:\n",
    "    print(\"помилка\")\n",
    "\n",
    "a: int = 10000\n",
    "b: float = 0.0000000000125\n",
    "print(\"a - b =\", a - b, \"Чому такий результат?\")\n"
   ]
  },
  {
   "cell_type": "markdown",
   "id": "9c81bbc1",
   "metadata": {},
   "source": [
    "## Вчимо колекції (набори даних)\n",
    "- ми назвали це набором томущо ми можемо обєднувати різні типи даних, як прості стрічки, числа чи навіть самі колеції у єдине ціле\n",
    "- починаємо з списків (list) який є mutable колекцією "
   ]
  },
  {
   "cell_type": "code",
   "execution_count": 29,
   "id": "b567f7bb",
   "metadata": {},
   "outputs": [
    {
     "name": "stdout",
     "output_type": "stream",
     "text": [
      "[1, 3, 'hello', [5, 6, 7], None, <function func at 0x13815ec00>, 'new item']\n",
      "[1, 3, 'hello']\n",
      "[1, 3, 'hello', [5, 6, 'world'], None, <function func at 0x13815ec00>, 'new item']\n"
     ]
    }
   ],
   "source": [
    "def func():\n",
    "    pass\n",
    "\n",
    "list_1 = [1, 2.0, 3, \"hello\", 4.5, [5, 6, 7], None, func]\n",
    "list_1.append(\"new item\")\n",
    "list_1.remove(2.0)\n",
    "list_1.pop(3)\n",
    "print(list_1)\n",
    "print(list_1[0:3]) # слайс з 0 по 2 індекс\n",
    "# індексування\n",
    "list_1[3][-1] = \"world\"\n",
    "print(list_1)"
   ]
  },
  {
   "cell_type": "markdown",
   "id": "0dc45b62",
   "metadata": {},
   "source": [
    "- взаємо перетворення між списками та стрічками"
   ]
  },
  {
   "cell_type": "code",
   "execution_count": 36,
   "id": "babc9b61",
   "metadata": {},
   "outputs": [
    {
     "name": "stdout",
     "output_type": "stream",
     "text": [
      "['H', 'e', 'l', 'l', 'o']\n",
      "Це змінна з пустою стрічкою: \n",
      " її довжина: 1\n",
      "H\n",
      "e\n",
      "l\n",
      "l\n",
      "o\n"
     ]
    }
   ],
   "source": [
    "s = \"Hello\"\n",
    "list_s = list(s)\n",
    "print(list_s)\n",
    "s2 = '\\n'\n",
    "print(\"Це змінна з пустою стрічкою:\", s2, \"її довжина:\", len(s2))\n",
    "print(s2.join(list_s))"
   ]
  },
  {
   "cell_type": "markdown",
   "id": "55213add",
   "metadata": {},
   "source": [
    "- тепер розглянемо tuples, які є immutable колекціями"
   ]
  },
  {
   "cell_type": "code",
   "execution_count": 42,
   "id": "e077054b",
   "metadata": {},
   "outputs": [
    {
     "name": "stdout",
     "output_type": "stream",
     "text": [
      "(1, 2, 3, 1, 2, 3)\n",
      "(1, 2.0, 3, 'hello', 4.5, (5, 6, 7), None, <function func at 0x13815ec00>)\n",
      "6 2 2\n"
     ]
    }
   ],
   "source": [
    "t = tuple([1, 2, 3, 1, 2, 3]) # перетворення списку у кортеж\n",
    "print( t )\n",
    "t2 = (1, 2.0, 3, \"hello\", 4.5, (5, 6, 7), None, func) # кортеж (tuple) - immutable колекція\n",
    "print(t2)\n",
    "a = t.count(1)\n",
    "print(len(t), a, t.index(3))"
   ]
  },
  {
   "cell_type": "markdown",
   "id": "81e2df6e",
   "metadata": {},
   "source": [
    "### Приклад: різниця між list та tuple на практиці\n",
    "- `list` можна змінювати (додавати, видаляти, змінювати елементи), а `tuple` — ні.\n",
    "- Наприклад, список покупок з магазину краще зберігати як list, бо він може змінюватись.\n",
    "- А координати точки на площині (x, y) зручно зберігати як tuple, бо вони не змінюються."
   ]
  },
  {
   "cell_type": "code",
   "execution_count": null,
   "id": "54e06d80",
   "metadata": {},
   "outputs": [],
   "source": [
    "# Список покупок (list) — змінюється\n",
    "shopping_list = [\"хліб\", \"молоко\", \"яйця\"]\n",
    "print(\"Початковий список:\", shopping_list)\n",
    "shopping_list.append(\"сир\") # додаємо новий товар\n",
    "shopping_list[0] = \"батон\" # змінюємо перший елемент\n",
    "print(\"Оновлений список:\", shopping_list)\n",
    "\n",
    "# Координати точки (tuple) — не змінюється\n",
    "point = (10, 20)\n",
    "print(\"Координати точки:\", point)\n",
    "try:\n",
    "    point[0] = 15 # спроба змінити координату\n",
    "except TypeError as e:\n",
    "    print(\"Помилка:\", e)"
   ]
  }
 ],
 "metadata": {
  "kernelspec": {
   "display_name": "Python 3",
   "language": "python",
   "name": "python3"
  },
  "language_info": {
   "codemirror_mode": {
    "name": "ipython",
    "version": 3
   },
   "file_extension": ".py",
   "mimetype": "text/x-python",
   "name": "python",
   "nbconvert_exporter": "python",
   "pygments_lexer": "ipython3",
   "version": "3.12.9"
  }
 },
 "nbformat": 4,
 "nbformat_minor": 5
}
