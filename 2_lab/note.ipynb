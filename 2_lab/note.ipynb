{
 "cells": [
  {
   "cell_type": "markdown",
   "id": "20d64cb0",
   "metadata": {},
   "source": [
    "# Основи Python\n",
    "\n",
    "## Типи даних\n",
    "\n",
    "### Стрічкові дані (букви або слова або речення)"
   ]
  },
  {
   "cell_type": "code",
   "execution_count": 29,
   "id": "365d0db0",
   "metadata": {},
   "outputs": [
    {
     "name": "stdout",
     "output_type": "stream",
     "text": [
      "<class 'str'>  а також  <class 'str'>  а також  <class 'str'>  а також  <class 'str'>\n"
     ]
    }
   ],
   "source": [
    "st_1 = \"Hello\"\n",
    "st_2 = 'World'\n",
    "st_3 = \"\"\"Hello World\"\"\"\n",
    "st_4 = str(123)\n",
    "print(type(st_1), \" а також \", type(st_2), \" а також \", type(st_3), \" а також \", type(st_4))"
   ]
  },
  {
   "cell_type": "markdown",
   "id": "9e23993a",
   "metadata": {},
   "source": [
    "- будь-що у Python є обєктом, і створені нами змінні також є обєктами класу `<class 'str'>`\n",
    "- з ООП ми знаємо що в класі є атрибути та методи які можуть бути застосовані до обєкту"
   ]
  },
  {
   "cell_type": "code",
   "execution_count": 30,
   "id": "80f69bef",
   "metadata": {},
   "outputs": [
    {
     "name": "stdout",
     "output_type": "stream",
     "text": [
      "Звертаємось до обєкта та шукаємо кількість входжень літери 'l': 2\n"
     ]
    }
   ],
   "source": [
    "st_out = \"звертаємось до обєкта та шукаємо кількість входжень літери 'l':\"\n",
    "print(st_out.capitalize(), st_1.count('l'))"
   ]
  },
  {
   "cell_type": "markdown",
   "id": "b0d764e6",
   "metadata": {},
   "source": [
    "- оскільки стрічки є обєктами і слова складаються з літер, ми можемо пройтися по всіх літерах у циклі\n",
    "- а також виокремлювати слайси з стрічки"
   ]
  },
  {
   "cell_type": "code",
   "execution_count": 31,
   "id": "2d8bb514",
   "metadata": {},
   "outputs": [
    {
     "name": "stdout",
     "output_type": "stream",
     "text": [
      "->  П\n",
      "->  р\n",
      "->  и\n",
      "->  в\n",
      "->  і\n",
      "->  т\n",
      "->   \n",
      "->  п\n",
      "->  о\n",
      "->   \n",
      "->  б\n",
      "->  у\n",
      "->  к\n",
      "->  в\n",
      "->  а\n",
      "->  х\n",
      "по \n",
      "буквах\n"
     ]
    }
   ],
   "source": [
    "a = \"Привіт по буквах\"\n",
    "for letter in a:\n",
    "    print(\"-> \", letter)\n",
    "# ---\n",
    "print(a[7:10])  # слайс з 0 по 6 символ\n",
    "print(a[10:])"
   ]
  },
  {
   "cell_type": "markdown",
   "id": "1da8412e",
   "metadata": {},
   "source": [
    "### Числові дані\n",
    "- як і стрічки, всі цифри також будуть обєктами\n",
    "- однак, якщо цифру взяти в лапки, тому це буде символ а значить Python буде розуміти його як стрічку"
   ]
  },
  {
   "cell_type": "code",
   "execution_count": 32,
   "id": "f05c9079",
   "metadata": {},
   "outputs": [
    {
     "name": "stdout",
     "output_type": "stream",
     "text": [
      "<class 'int'>  а також  <class 'float'>  а також  <class 'str'>\n"
     ]
    }
   ],
   "source": [
    "n_1 = 123\n",
    "n_2 = 12.34\n",
    "ns_1 = \"123\"\n",
    "print(type(n_1), \" а також \", type(n_2), \" а також \", type(ns_1))"
   ]
  },
  {
   "cell_type": "markdown",
   "id": "5b76bb92",
   "metadata": {},
   "source": [
    "- ми можемо задавати числа у наступному вигляді\n",
    "- можемо явна вказувати тип даних який присвоюється змінній\n",
    "- або задавати тип самої змінної а потім поміщати туди дані\n",
    "- Python автоматично розпізнає тип даних та відповідно конвертує змінну\n",
    "- для того щоб була строга типізація використовують бібліотеки typing або pydantic"
   ]
  },
  {
   "cell_type": "code",
   "execution_count": 33,
   "id": "38e9953c",
   "metadata": {},
   "outputs": [
    {
     "name": "stdout",
     "output_type": "stream",
     "text": [
      "1000000  а також  <class 'str'>\n",
      "12.34  належить типу  <class 'float'>  а також  12.5  належить типу  <class 'float'>\n"
     ]
    }
   ],
   "source": [
    "ni_1 = 1_000_000\n",
    "ni_2 = 1e6\n",
    "# явно вкзати тип\n",
    "ni_1 = int(1000000)\n",
    "ni_2: int|float = \"12\"\n",
    "print(ni_1, \" а також \", type(ni_2) )\n",
    "nf_1 = float(12.34)\n",
    "nf_2 = 12.5\n",
    "print(nf_1, \" належить типу \", type(nf_1), \" а також \", nf_2, \" належить типу \", type(nf_2))"
   ]
  },
  {
   "cell_type": "markdown",
   "id": "7fe51ea3",
   "metadata": {},
   "source": [
    "- а як доступатись до цифри як обєкта?"
   ]
  },
  {
   "cell_type": "code",
   "execution_count": 34,
   "id": "7a1fe8ef",
   "metadata": {},
   "outputs": [
    {
     "name": "stdout",
     "output_type": "stream",
     "text": [
      "<class 'int'> True <class 'float'> False\n"
     ]
    }
   ],
   "source": [
    "print(type(ni_1), ni_1.is_integer(), type(nf_1), nf_1.is_integer())"
   ]
  }
 ],
 "metadata": {
  "kernelspec": {
   "display_name": "Python 3",
   "language": "python",
   "name": "python3"
  },
  "language_info": {
   "codemirror_mode": {
    "name": "ipython",
    "version": 3
   },
   "file_extension": ".py",
   "mimetype": "text/x-python",
   "name": "python",
   "nbconvert_exporter": "python",
   "pygments_lexer": "ipython3",
   "version": "3.12.9"
  }
 },
 "nbformat": 4,
 "nbformat_minor": 5
}
